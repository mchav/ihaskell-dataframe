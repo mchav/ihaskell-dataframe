{
 "cells": [
  {
   "cell_type": "markdown",
   "id": "71d1d672",
   "metadata": {},
   "source": [
    "# Introduction to data analysis\n",
    "\n",
    "This tutorial will use the dataframe library to showcase some common concepts in data analysis."
   ]
  },
  {
   "cell_type": "code",
   "execution_count": null,
   "id": "645e6f11",
   "metadata": {},
   "outputs": [],
   "source": [
    "import qualified Data.DataFrame as D"
   ]
  },
  {
   "cell_type": "code",
   "execution_count": null,
   "id": "867cfc24",
   "metadata": {},
   "outputs": [],
   "source": [
    ":set -XOverloadedStrings\n",
    ":set -XTypeApplications"
   ]
  },
  {
   "cell_type": "markdown",
   "id": "23fc3908",
   "metadata": {},
   "source": [
    "Next we read the CSV file."
   ]
  },
  {
   "cell_type": "code",
   "execution_count": null,
   "id": "37c95f56",
   "metadata": {},
   "outputs": [
    {
     "data": {
      "text/plain": []
     },
     "metadata": {},
     "output_type": "display_data"
    }
   ],
   "source": [
    "df <- D.readCsv \"/home/yavinda/code/dataframe/data/housing.csv\""
   ]
  },
  {
   "cell_type": "code",
   "execution_count": null,
   "id": "6660cb59",
   "metadata": {
    "scrolled": false
   },
   "outputs": [
    {
     "data": {
      "text/markdown": [
       "--------------------------------------------------------------------------------------------------------------------------------------------------------------------------------------------------------------------------------------------------------------------------------\n",
       "index<br>Int | longitude<br>Double | latitude<br>Double | housing_median_age<br>Double | total_rooms<br>Double | total_bedrooms<br>Maybe Double | population<br>Double | households<br>Double | median_income<br>Double | median_house_value<br>Double | ocean_proximity<br>Text\n",
       "-------------|---------------------|--------------------|------------------------------|-----------------------|--------------------------------|----------------------|----------------------|-------------------------|------------------------------|------------------------\n",
       "0            | -122.23             | 37.88              | 41.0                         | 880.0                 | Just 129.0                     | 322.0                | 126.0                | 8.3252                  | 452600.0                     | NEAR BAY               \n",
       "1            | -122.22             | 37.86              | 21.0                         | 7099.0                | Just 1106.0                    | 2401.0               | 1138.0               | 8.3014                  | 358500.0                     | NEAR BAY               \n",
       "2            | -122.24             | 37.85              | 52.0                         | 1467.0                | Just 190.0                     | 496.0                | 177.0                | 7.2574                  | 352100.0                     | NEAR BAY               \n",
       "3            | -122.25             | 37.85              | 52.0                         | 1274.0                | Just 235.0                     | 558.0                | 219.0                | 5.6431000000000004      | 341300.0                     | NEAR BAY               \n",
       "4            | -122.25             | 37.85              | 52.0                         | 1627.0                | Just 280.0                     | 565.0                | 259.0                | 3.8462                  | 342200.0                     | NEAR BAY               \n",
       "5            | -122.25             | 37.85              | 52.0                         | 919.0                 | Just 213.0                     | 413.0                | 193.0                | 4.0368                  | 269700.0                     | NEAR BAY               \n",
       "6            | -122.25             | 37.84              | 52.0                         | 2535.0                | Just 489.0                     | 1094.0               | 514.0                | 3.6591                  | 299200.0                     | NEAR BAY               \n",
       "7            | -122.25             | 37.84              | 52.0                         | 3104.0                | Just 687.0                     | 1157.0               | 647.0                | 3.12                    | 241400.0                     | NEAR BAY               \n",
       "8            | -122.26             | 37.84              | 42.0                         | 2555.0                | Just 665.0                     | 1206.0               | 595.0                | 2.0804                  | 226700.0                     | NEAR BAY               \n",
       "9            | -122.25             | 37.84              | 52.0                         | 3549.0                | Just 707.0                     | 1551.0               | 714.0                | 3.6912000000000003      | 261100.0                     | NEAR BAY               \n"
      ],
      "text/plain": [
       "--------------------------------------------------------------------------------------------------------------------------------------------------------------------------------------------------------------------------------------------------------------------------------\n",
       "index<br>Int | longitude<br>Double | latitude<br>Double | housing_median_age<br>Double | total_rooms<br>Double | total_bedrooms<br>Maybe Double | population<br>Double | households<br>Double | median_income<br>Double | median_house_value<br>Double | ocean_proximity<br>Text\n",
       "-------------|---------------------|--------------------|------------------------------|-----------------------|--------------------------------|----------------------|----------------------|-------------------------|------------------------------|------------------------\n",
       "0            | -122.23             | 37.88              | 41.0                         | 880.0                 | Just 129.0                     | 322.0                | 126.0                | 8.3252                  | 452600.0                     | NEAR BAY               \n",
       "1            | -122.22             | 37.86              | 21.0                         | 7099.0                | Just 1106.0                    | 2401.0               | 1138.0               | 8.3014                  | 358500.0                     | NEAR BAY               \n",
       "2            | -122.24             | 37.85              | 52.0                         | 1467.0                | Just 190.0                     | 496.0                | 177.0                | 7.2574                  | 352100.0                     | NEAR BAY               \n",
       "3            | -122.25             | 37.85              | 52.0                         | 1274.0                | Just 235.0                     | 558.0                | 219.0                | 5.6431000000000004      | 341300.0                     | NEAR BAY               \n",
       "4            | -122.25             | 37.85              | 52.0                         | 1627.0                | Just 280.0                     | 565.0                | 259.0                | 3.8462                  | 342200.0                     | NEAR BAY               \n",
       "5            | -122.25             | 37.85              | 52.0                         | 919.0                 | Just 213.0                     | 413.0                | 193.0                | 4.0368                  | 269700.0                     | NEAR BAY               \n",
       "6            | -122.25             | 37.84              | 52.0                         | 2535.0                | Just 489.0                     | 1094.0               | 514.0                | 3.6591                  | 299200.0                     | NEAR BAY               \n",
       "7            | -122.25             | 37.84              | 52.0                         | 3104.0                | Just 687.0                     | 1157.0               | 647.0                | 3.12                    | 241400.0                     | NEAR BAY               \n",
       "8            | -122.26             | 37.84              | 42.0                         | 2555.0                | Just 665.0                     | 1206.0               | 595.0                | 2.0804                  | 226700.0                     | NEAR BAY               \n",
       "9            | -122.25             | 37.84              | 52.0                         | 3549.0                | Just 707.0                     | 1551.0               | 714.0                | 3.6912000000000003      | 261100.0                     | NEAR BAY"
      ]
     },
     "metadata": {},
     "output_type": "display_data"
    }
   ],
   "source": [
    "D.take 10 df"
   ]
  },
  {
   "cell_type": "code",
   "execution_count": null,
   "id": "dc1d3ecd",
   "metadata": {},
   "outputs": [
    {
     "data": {
      "text/markdown": [
       "--------------------------------------------------------------------------------------------------------------------------------------------------------\n",
       "index<br>Int | Column Name<br>Text | # Non-null Values<br>Int | # Null Values<br>Int | # Partially parsed<br>Int | # Unique Values<br>Int | Type<br>Text\n",
       "-------------|---------------------|--------------------------|----------------------|---------------------------|------------------------|-------------\n",
       "0            | total_bedrooms      | 20433                    | 207                  | 0                         | 1924                   | Maybe Double\n",
       "1            | ocean_proximity     | 20640                    | 0                    | 0                         | 5                      | Text        \n",
       "2            | median_house_value  | 20640                    | 0                    | 0                         | 3842                   | Double      \n",
       "3            | median_income       | 20640                    | 0                    | 0                         | 12928                  | Double      \n",
       "4            | households          | 20640                    | 0                    | 0                         | 1815                   | Double      \n",
       "5            | population          | 20640                    | 0                    | 0                         | 3888                   | Double      \n",
       "6            | total_rooms         | 20640                    | 0                    | 0                         | 5926                   | Double      \n",
       "7            | housing_median_age  | 20640                    | 0                    | 0                         | 52                     | Double      \n",
       "8            | latitude            | 20640                    | 0                    | 0                         | 862                    | Double      \n",
       "9            | longitude           | 20640                    | 0                    | 0                         | 844                    | Double      \n"
      ],
      "text/plain": [
       "--------------------------------------------------------------------------------------------------------------------------------------------------------\n",
       "index<br>Int | Column Name<br>Text | # Non-null Values<br>Int | # Null Values<br>Int | # Partially parsed<br>Int | # Unique Values<br>Int | Type<br>Text\n",
       "-------------|---------------------|--------------------------|----------------------|---------------------------|------------------------|-------------\n",
       "0            | total_bedrooms      | 20433                    | 207                  | 0                         | 1924                   | Maybe Double\n",
       "1            | ocean_proximity     | 20640                    | 0                    | 0                         | 5                      | Text        \n",
       "2            | median_house_value  | 20640                    | 0                    | 0                         | 3842                   | Double      \n",
       "3            | median_income       | 20640                    | 0                    | 0                         | 12928                  | Double      \n",
       "4            | households          | 20640                    | 0                    | 0                         | 1815                   | Double      \n",
       "5            | population          | 20640                    | 0                    | 0                         | 3888                   | Double      \n",
       "6            | total_rooms         | 20640                    | 0                    | 0                         | 5926                   | Double      \n",
       "7            | housing_median_age  | 20640                    | 0                    | 0                         | 52                     | Double      \n",
       "8            | latitude            | 20640                    | 0                    | 0                         | 862                    | Double      \n",
       "9            | longitude           | 20640                    | 0                    | 0                         | 844                    | Double"
      ]
     },
     "metadata": {},
     "output_type": "display_data"
    }
   ],
   "source": [
    "D.columnInfo df"
   ]
  },
  {
   "cell_type": "code",
   "execution_count": null,
   "id": "518bb3b9",
   "metadata": {},
   "outputs": [
    {
     "data": {
      "text/markdown": [
       "-------------------------------------------------------------------------------------------------------------------------\n",
       "index<br>Int | Statistic<br>Text | <1H OCEAN<br>Int | INLAND<br>Int | ISLAND<br>Int | NEAR BAY<br>Int | NEAR OCEAN<br>Int\n",
       "-------------|-------------------|------------------|---------------|---------------|-----------------|------------------\n",
       "0            | Count             | 9136             | 6551          | 5             | 2290            | 2658             \n",
       "1            | Percentage (%)    | 44               | 31            | 0             | 11              | 12               \n"
      ],
      "text/plain": [
       "-------------------------------------------------------------------------------------------------------------------------\n",
       "index<br>Int | Statistic<br>Text | <1H OCEAN<br>Int | INLAND<br>Int | ISLAND<br>Int | NEAR BAY<br>Int | NEAR OCEAN<br>Int\n",
       "-------------|-------------------|------------------|---------------|---------------|-----------------|------------------\n",
       "0            | Count             | 9136             | 6551          | 5             | 2290            | 2658             \n",
       "1            | Percentage (%)    | 44               | 31            | 0             | 11              | 12"
      ]
     },
     "metadata": {},
     "output_type": "display_data"
    }
   ],
   "source": [
    "D.frequencies \"ocean_proximity\" df"
   ]
  },
  {
   "cell_type": "code",
   "execution_count": null,
   "id": "bedcd60a",
   "metadata": {},
   "outputs": [
    {
     "data": {
      "text/markdown": [
       "-----------------------------------------------------------------------------------------------------------------------------------------------------------------------------------------------------------------------------------------\n",
       "index<br>Int | Statistic<br>Text | longitude<br>Double | latitude<br>Double | housing_median_age<br>Double | total_rooms<br>Double | population<br>Double | households<br>Double | median_income<br>Double | median_house_value<br>Double\n",
       "-------------|-------------------|---------------------|--------------------|------------------------------|-----------------------|----------------------|----------------------|-------------------------|-----------------------------\n",
       "0            | Mean              | -119.57             | 35.63              | 28.64                        | 2635.76               | 1425.48              | 499.54               | 3.87                    | 206855.82                   \n",
       "1            | Minimum           | -124.35             | 32.54              | 1.0                          | 2.0                   | 3.0                  | 1.0                  | 0.5                     | 14999.0                     \n",
       "2            | 25%               | -121.8              | 33.93              | 18.0                         | 1447.42               | 787.0                | 280.0                | 2.56                    | 119600.0                    \n",
       "3            | Median            | -118.49             | 34.26              | 29.0                         | 2127.0                | 1166.0               | 409.0                | 3.53                    | 179700.0                    \n",
       "4            | 75%               | -118.01             | 37.71              | 37.0                         | 3148.0                | 1725.0               | 605.0                | 4.74                    | 264758.33                   \n",
       "5            | Max               | -114.31             | 41.95              | 52.0                         | 39320.0               | 35682.0              | 6082.0               | 15.0                    | 500001.0                    \n",
       "6            | StdDev            | 2.0                 | 2.14               | 12.59                        | 2181.56               | 1132.43              | 382.32               | 1.9                     | 115392.82                   \n",
       "7            | IQR               | 3.79                | 3.78               | 19.0                         | 1700.58               | 938.0                | 325.0                | 2.18                    | 145158.33                   \n",
       "8            | Skewness          | -0.3                | 0.47               | 6.0e-2                       | 4.15                  | 4.94                 | 3.41                 | 1.65                    | 0.98                        \n"
      ],
      "text/plain": [
       "-----------------------------------------------------------------------------------------------------------------------------------------------------------------------------------------------------------------------------------------\n",
       "index<br>Int | Statistic<br>Text | longitude<br>Double | latitude<br>Double | housing_median_age<br>Double | total_rooms<br>Double | population<br>Double | households<br>Double | median_income<br>Double | median_house_value<br>Double\n",
       "-------------|-------------------|---------------------|--------------------|------------------------------|-----------------------|----------------------|----------------------|-------------------------|-----------------------------\n",
       "0            | Mean              | -119.57             | 35.63              | 28.64                        | 2635.76               | 1425.48              | 499.54               | 3.87                    | 206855.82                   \n",
       "1            | Minimum           | -124.35             | 32.54              | 1.0                          | 2.0                   | 3.0                  | 1.0                  | 0.5                     | 14999.0                     \n",
       "2            | 25%               | -121.8              | 33.93              | 18.0                         | 1447.42               | 787.0                | 280.0                | 2.56                    | 119600.0                    \n",
       "3            | Median            | -118.49             | 34.26              | 29.0                         | 2127.0                | 1166.0               | 409.0                | 3.53                    | 179700.0                    \n",
       "4            | 75%               | -118.01             | 37.71              | 37.0                         | 3148.0                | 1725.0               | 605.0                | 4.74                    | 264758.33                   \n",
       "5            | Max               | -114.31             | 41.95              | 52.0                         | 39320.0               | 35682.0              | 6082.0               | 15.0                    | 500001.0                    \n",
       "6            | StdDev            | 2.0                 | 2.14               | 12.59                        | 2181.56               | 1132.43              | 382.32               | 1.9                     | 115392.82                   \n",
       "7            | IQR               | 3.79                | 3.78               | 19.0                         | 1700.58               | 938.0                | 325.0                | 2.18                    | 145158.33                   \n",
       "8            | Skewness          | -0.3                | 0.47               | 6.0e-2                       | 4.15                  | 4.94                 | 3.41                 | 1.65                    | 0.98"
      ]
     },
     "metadata": {},
     "output_type": "display_data"
    }
   ],
   "source": [
    "D.summarize df"
   ]
  },
  {
   "cell_type": "code",
   "execution_count": null,
   "id": "2f4631be",
   "metadata": {},
   "outputs": [],
   "source": []
  }
 ],
 "metadata": {
  "kernelspec": {
   "display_name": "Haskell",
   "language": "haskell",
   "name": "haskell"
  },
  "language_info": {
   "codemirror_mode": "ihaskell",
   "file_extension": ".hs",
   "mimetype": "text/x-haskell",
   "name": "haskell",
   "pygments_lexer": "Haskell",
   "version": "9.8.4"
  }
 },
 "nbformat": 4,
 "nbformat_minor": 5
}
